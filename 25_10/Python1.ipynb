{
  "cells": [
    {
      "cell_type": "markdown",
      "metadata": {
        "id": "XWxoKQ1yU1kc"
      },
      "source": [
        "1.Write a program to change the give 1-D array to 2-D and 3-D array using Numpy.                                    – 2 Marks\n",
        "\n",
        "a.\tInput : arr = [1,2,3,4,5,6,7,8]\n",
        "\n"
      ]
    },
    {
      "cell_type": "code",
      "execution_count": null,
      "metadata": {
        "id": "qIhrl4jSUuaJ"
      },
      "outputs": [],
      "source": [
        "#soln"
      ]
    },
    {
      "cell_type": "markdown",
      "metadata": {
        "id": "F-DfqqABVCId"
      },
      "source": [
        "2.\tWrite a NumPy program to get the powers of an array values element-wise. First array elements raised to powers from second array   – 2 Marks\n",
        "\n",
        "\tExpected Output:\n",
        "\n",
        "\tOriginal array:  [0 1 2 3 4 5 6]\n",
        "  \n",
        "\tOutput: [ 0 1 8 27 64 125 216]\n"
      ]
    },
    {
      "cell_type": "code",
      "execution_count": null,
      "metadata": {
        "id": "k9WNCE01-W8a"
      },
      "outputs": [],
      "source": [
        "#soln"
      ]
    },
    {
      "cell_type": "markdown",
      "metadata": {
        "id": "i77Wg5VQZHpo"
      },
      "source": [
        "3.\tWrite a program create interval between 0 and 100, in breaks of 10 using linspace  \n",
        "– 2 Marks\n"
      ]
    },
    {
      "cell_type": "code",
      "execution_count": null,
      "metadata": {
        "id": "N4zGcAYgZH57"
      },
      "outputs": [],
      "source": [
        "#soln"
      ]
    },
    {
      "cell_type": "markdown",
      "metadata": {
        "id": "CCizsB1rVJse"
      },
      "source": [
        "4.\tFollowing is the given numpy array return array of odd rows and even columns\n",
        " \tsampleArray = [[3 ,6, 9, 12], [15 ,18, 21, 24],[27 ,30, 33, 36], [39 ,42, 45, 48], [51 ,54, 57, 60]]\n",
        "\n",
        "– 2 Marks"
      ]
    },
    {
      "cell_type": "code",
      "execution_count": null,
      "metadata": {
        "id": "PVKkL5m0Ukn3"
      },
      "outputs": [],
      "source": [
        "#soln"
      ]
    },
    {
      "cell_type": "markdown",
      "metadata": {
        "id": "U8EATxtyVUCQ"
      },
      "source": [
        "5.\tDownload the planets.csv file from the LMS. Perform the following orperations:\n",
        "\n",
        "a.\tLoad the planets.csv file with pandas.\n",
        "\n",
        "b.\tGive the statistical description and overall information about the dataframe created.\n",
        "\n",
        "c.\tDisplay the first 5 and last five rows of the data frame.\n",
        "\n",
        "d. Drop all the rows with missing values.\n",
        "\n",
        "e.\tAdd a new column dm=distance * mass.\n",
        "\n",
        "f.\tWhat is the average orbital_period, mass and distance values.\n",
        "\n"
      ]
    },
    {
      "cell_type": "code",
      "execution_count": null,
      "metadata": {
        "id": "z1Lh2_czUevt"
      },
      "outputs": [],
      "source": [
        "#soln"
      ]
    }
  ],
  "metadata": {
    "colab": {
      "name": "Python_FA1.ipynb",
      "provenance": []
    },
    "kernelspec": {
      "display_name": "Python 3",
      "name": "python3"
    },
    "language_info": {
      "name": "python"
    }
  },
  "nbformat": 4,
  "nbformat_minor": 0
}
